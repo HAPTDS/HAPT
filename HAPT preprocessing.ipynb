{
 "cells": [
  {
   "cell_type": "code",
   "execution_count": 25,
   "metadata": {},
   "outputs": [],
   "source": [
    "import numpy as np\n",
    "import pandas as pd\n",
    "import matplotlib.pyplot as plt\n",
    "%matplotlib inline\n",
    "import seaborn as sns"
   ]
  },
  {
   "cell_type": "code",
   "execution_count": 2,
   "metadata": {},
   "outputs": [],
   "source": [
    "import warnings\n",
    "warnings.filterwarnings('ignore')"
   ]
  },
  {
   "cell_type": "markdown",
   "metadata": {},
   "source": [
    "## Importing Training & Testing dataset"
   ]
  },
  {
   "cell_type": "code",
   "execution_count": 3,
   "metadata": {},
   "outputs": [],
   "source": [
    "X_train = pd.read_csv(\"Dataset Train/X_train.csv\")"
   ]
  },
  {
   "cell_type": "code",
   "execution_count": 4,
   "metadata": {},
   "outputs": [],
   "source": [
    "y_train= pd.read_csv(\"Dataset Train/y_train.csv\")"
   ]
  },
  {
   "cell_type": "code",
   "execution_count": 5,
   "metadata": {},
   "outputs": [],
   "source": [
    "X_test = pd.read_csv(\"Dataset test/x_test.csv\")"
   ]
  },
  {
   "cell_type": "code",
   "execution_count": 6,
   "metadata": {},
   "outputs": [],
   "source": [
    "y_test=pd.read_csv(\"Dataset test/y_test.csv\")"
   ]
  },
  {
   "cell_type": "code",
   "execution_count": 7,
   "metadata": {},
   "outputs": [
    {
     "data": {
      "text/html": [
       "<div>\n",
       "<style scoped>\n",
       "    .dataframe tbody tr th:only-of-type {\n",
       "        vertical-align: middle;\n",
       "    }\n",
       "\n",
       "    .dataframe tbody tr th {\n",
       "        vertical-align: top;\n",
       "    }\n",
       "\n",
       "    .dataframe thead th {\n",
       "        text-align: right;\n",
       "    }\n",
       "</style>\n",
       "<table border=\"1\" class=\"dataframe\">\n",
       "  <thead>\n",
       "    <tr style=\"text-align: right;\">\n",
       "      <th></th>\n",
       "      <th>tBodyAcc-Mean-1</th>\n",
       "      <th>tBodyAcc-Mean-2</th>\n",
       "      <th>tBodyAcc-Mean-3</th>\n",
       "      <th>tBodyAcc-STD-1</th>\n",
       "      <th>tBodyAcc-STD-2</th>\n",
       "      <th>tBodyAcc-STD-3</th>\n",
       "      <th>tBodyAcc-Mad-1</th>\n",
       "      <th>tBodyAcc-Mad-2</th>\n",
       "      <th>tBodyAcc-Mad-3</th>\n",
       "      <th>tBodyAcc-Max-1</th>\n",
       "      <th>...</th>\n",
       "      <th>fBodyGyroJerkMag-Skewness-1</th>\n",
       "      <th>fBodyGyroJerkMag-Kurtosis-1</th>\n",
       "      <th>tBodyAcc-AngleWRTGravity-1</th>\n",
       "      <th>tBodyAccJerk-AngleWRTGravity-1</th>\n",
       "      <th>tBodyGyro-AngleWRTGravity-1</th>\n",
       "      <th>tBodyGyroJerk-AngleWRTGravity-1</th>\n",
       "      <th>tXAxisAcc-AngleWRTGravity-1</th>\n",
       "      <th>tYAxisAcc-AngleWRTGravity-1</th>\n",
       "      <th>tZAxisAcc-AngleWRTGravity-1</th>\n",
       "      <th>Unnamed: 561</th>\n",
       "    </tr>\n",
       "  </thead>\n",
       "  <tbody>\n",
       "    <tr>\n",
       "      <td>0</td>\n",
       "      <td>0.043580</td>\n",
       "      <td>-0.005970</td>\n",
       "      <td>-0.035054</td>\n",
       "      <td>-0.995381</td>\n",
       "      <td>-0.988366</td>\n",
       "      <td>-0.937382</td>\n",
       "      <td>-0.995007</td>\n",
       "      <td>-0.988816</td>\n",
       "      <td>-0.953325</td>\n",
       "      <td>-0.794796</td>\n",
       "      <td>...</td>\n",
       "      <td>-0.314848</td>\n",
       "      <td>-0.713308</td>\n",
       "      <td>-0.112754</td>\n",
       "      <td>0.030400</td>\n",
       "      <td>-0.464761</td>\n",
       "      <td>-0.018446</td>\n",
       "      <td>-0.841559</td>\n",
       "      <td>0.179913</td>\n",
       "      <td>-0.051718</td>\n",
       "      <td>NaN</td>\n",
       "    </tr>\n",
       "    <tr>\n",
       "      <td>1</td>\n",
       "      <td>0.039480</td>\n",
       "      <td>-0.002131</td>\n",
       "      <td>-0.029067</td>\n",
       "      <td>-0.998348</td>\n",
       "      <td>-0.982945</td>\n",
       "      <td>-0.971273</td>\n",
       "      <td>-0.998702</td>\n",
       "      <td>-0.983315</td>\n",
       "      <td>-0.974000</td>\n",
       "      <td>-0.802537</td>\n",
       "      <td>...</td>\n",
       "      <td>-0.603199</td>\n",
       "      <td>-0.860677</td>\n",
       "      <td>0.053477</td>\n",
       "      <td>-0.007435</td>\n",
       "      <td>-0.732626</td>\n",
       "      <td>0.703511</td>\n",
       "      <td>-0.845092</td>\n",
       "      <td>0.180261</td>\n",
       "      <td>-0.047436</td>\n",
       "      <td>NaN</td>\n",
       "    </tr>\n",
       "    <tr>\n",
       "      <td>2</td>\n",
       "      <td>0.039978</td>\n",
       "      <td>-0.005153</td>\n",
       "      <td>-0.022651</td>\n",
       "      <td>-0.995482</td>\n",
       "      <td>-0.977314</td>\n",
       "      <td>-0.984760</td>\n",
       "      <td>-0.996415</td>\n",
       "      <td>-0.975835</td>\n",
       "      <td>-0.985973</td>\n",
       "      <td>-0.798477</td>\n",
       "      <td>...</td>\n",
       "      <td>-0.404427</td>\n",
       "      <td>-0.761847</td>\n",
       "      <td>-0.118559</td>\n",
       "      <td>0.177899</td>\n",
       "      <td>0.100699</td>\n",
       "      <td>0.808529</td>\n",
       "      <td>-0.849230</td>\n",
       "      <td>0.180610</td>\n",
       "      <td>-0.042271</td>\n",
       "      <td>NaN</td>\n",
       "    </tr>\n",
       "    <tr>\n",
       "      <td>3</td>\n",
       "      <td>0.039785</td>\n",
       "      <td>-0.011809</td>\n",
       "      <td>-0.028916</td>\n",
       "      <td>-0.996194</td>\n",
       "      <td>-0.988569</td>\n",
       "      <td>-0.993256</td>\n",
       "      <td>-0.996994</td>\n",
       "      <td>-0.988526</td>\n",
       "      <td>-0.993135</td>\n",
       "      <td>-0.798477</td>\n",
       "      <td>...</td>\n",
       "      <td>-0.138373</td>\n",
       "      <td>-0.491604</td>\n",
       "      <td>-0.036788</td>\n",
       "      <td>-0.012892</td>\n",
       "      <td>0.640011</td>\n",
       "      <td>-0.485366</td>\n",
       "      <td>-0.848947</td>\n",
       "      <td>0.181907</td>\n",
       "      <td>-0.040826</td>\n",
       "      <td>NaN</td>\n",
       "    </tr>\n",
       "    <tr>\n",
       "      <td>4</td>\n",
       "      <td>0.038758</td>\n",
       "      <td>-0.002289</td>\n",
       "      <td>-0.023863</td>\n",
       "      <td>-0.998241</td>\n",
       "      <td>-0.986774</td>\n",
       "      <td>-0.993115</td>\n",
       "      <td>-0.998216</td>\n",
       "      <td>-0.986479</td>\n",
       "      <td>-0.993825</td>\n",
       "      <td>-0.801982</td>\n",
       "      <td>...</td>\n",
       "      <td>-0.366214</td>\n",
       "      <td>-0.702490</td>\n",
       "      <td>0.123320</td>\n",
       "      <td>0.122542</td>\n",
       "      <td>0.693578</td>\n",
       "      <td>-0.615971</td>\n",
       "      <td>-0.848164</td>\n",
       "      <td>0.185124</td>\n",
       "      <td>-0.037080</td>\n",
       "      <td>NaN</td>\n",
       "    </tr>\n",
       "  </tbody>\n",
       "</table>\n",
       "<p>5 rows × 562 columns</p>\n",
       "</div>"
      ],
      "text/plain": [
       "   tBodyAcc-Mean-1  tBodyAcc-Mean-2  tBodyAcc-Mean-3  tBodyAcc-STD-1  \\\n",
       "0         0.043580        -0.005970        -0.035054       -0.995381   \n",
       "1         0.039480        -0.002131        -0.029067       -0.998348   \n",
       "2         0.039978        -0.005153        -0.022651       -0.995482   \n",
       "3         0.039785        -0.011809        -0.028916       -0.996194   \n",
       "4         0.038758        -0.002289        -0.023863       -0.998241   \n",
       "\n",
       "   tBodyAcc-STD-2  tBodyAcc-STD-3  tBodyAcc-Mad-1  tBodyAcc-Mad-2  \\\n",
       "0       -0.988366       -0.937382       -0.995007       -0.988816   \n",
       "1       -0.982945       -0.971273       -0.998702       -0.983315   \n",
       "2       -0.977314       -0.984760       -0.996415       -0.975835   \n",
       "3       -0.988569       -0.993256       -0.996994       -0.988526   \n",
       "4       -0.986774       -0.993115       -0.998216       -0.986479   \n",
       "\n",
       "   tBodyAcc-Mad-3  tBodyAcc-Max-1  ...  fBodyGyroJerkMag-Skewness-1  \\\n",
       "0       -0.953325       -0.794796  ...                    -0.314848   \n",
       "1       -0.974000       -0.802537  ...                    -0.603199   \n",
       "2       -0.985973       -0.798477  ...                    -0.404427   \n",
       "3       -0.993135       -0.798477  ...                    -0.138373   \n",
       "4       -0.993825       -0.801982  ...                    -0.366214   \n",
       "\n",
       "   fBodyGyroJerkMag-Kurtosis-1  tBodyAcc-AngleWRTGravity-1  \\\n",
       "0                    -0.713308                   -0.112754   \n",
       "1                    -0.860677                    0.053477   \n",
       "2                    -0.761847                   -0.118559   \n",
       "3                    -0.491604                   -0.036788   \n",
       "4                    -0.702490                    0.123320   \n",
       "\n",
       "   tBodyAccJerk-AngleWRTGravity-1  tBodyGyro-AngleWRTGravity-1  \\\n",
       "0                        0.030400                    -0.464761   \n",
       "1                       -0.007435                    -0.732626   \n",
       "2                        0.177899                     0.100699   \n",
       "3                       -0.012892                     0.640011   \n",
       "4                        0.122542                     0.693578   \n",
       "\n",
       "   tBodyGyroJerk-AngleWRTGravity-1  tXAxisAcc-AngleWRTGravity-1  \\\n",
       "0                        -0.018446                    -0.841559   \n",
       "1                         0.703511                    -0.845092   \n",
       "2                         0.808529                    -0.849230   \n",
       "3                        -0.485366                    -0.848947   \n",
       "4                        -0.615971                    -0.848164   \n",
       "\n",
       "   tYAxisAcc-AngleWRTGravity-1  tZAxisAcc-AngleWRTGravity-1  Unnamed: 561  \n",
       "0                     0.179913                    -0.051718           NaN  \n",
       "1                     0.180261                    -0.047436           NaN  \n",
       "2                     0.180610                    -0.042271           NaN  \n",
       "3                     0.181907                    -0.040826           NaN  \n",
       "4                     0.185124                    -0.037080           NaN  \n",
       "\n",
       "[5 rows x 562 columns]"
      ]
     },
     "execution_count": 7,
     "metadata": {},
     "output_type": "execute_result"
    }
   ],
   "source": [
    "X_train.head()"
   ]
  },
  {
   "cell_type": "code",
   "execution_count": 8,
   "metadata": {},
   "outputs": [],
   "source": [
    "X_train.drop(columns='Unnamed: 561',inplace=True)"
   ]
  },
  {
   "cell_type": "code",
   "execution_count": 9,
   "metadata": {},
   "outputs": [
    {
     "data": {
      "text/plain": [
       "tBodyAcc-Mean-1                    0\n",
       "tBodyAcc-Mean-2                    0\n",
       "tBodyAcc-Mean-3                    0\n",
       "tBodyAcc-STD-1                     0\n",
       "tBodyAcc-STD-2                     0\n",
       "                                  ..\n",
       "tBodyGyro-AngleWRTGravity-1        0\n",
       "tBodyGyroJerk-AngleWRTGravity-1    0\n",
       "tXAxisAcc-AngleWRTGravity-1        0\n",
       "tYAxisAcc-AngleWRTGravity-1        0\n",
       "tZAxisAcc-AngleWRTGravity-1        0\n",
       "Length: 561, dtype: int64"
      ]
     },
     "execution_count": 9,
     "metadata": {},
     "output_type": "execute_result"
    }
   ],
   "source": [
    "(X_train.isnull().sum())"
   ]
  },
  {
   "cell_type": "code",
   "execution_count": 10,
   "metadata": {},
   "outputs": [
    {
     "data": {
      "text/html": [
       "<div>\n",
       "<style scoped>\n",
       "    .dataframe tbody tr th:only-of-type {\n",
       "        vertical-align: middle;\n",
       "    }\n",
       "\n",
       "    .dataframe tbody tr th {\n",
       "        vertical-align: top;\n",
       "    }\n",
       "\n",
       "    .dataframe thead th {\n",
       "        text-align: right;\n",
       "    }\n",
       "</style>\n",
       "<table border=\"1\" class=\"dataframe\">\n",
       "  <thead>\n",
       "    <tr style=\"text-align: right;\">\n",
       "      <th></th>\n",
       "      <th>labels</th>\n",
       "    </tr>\n",
       "  </thead>\n",
       "  <tbody>\n",
       "    <tr>\n",
       "      <td>0</td>\n",
       "      <td>5</td>\n",
       "    </tr>\n",
       "    <tr>\n",
       "      <td>1</td>\n",
       "      <td>5</td>\n",
       "    </tr>\n",
       "    <tr>\n",
       "      <td>2</td>\n",
       "      <td>5</td>\n",
       "    </tr>\n",
       "    <tr>\n",
       "      <td>3</td>\n",
       "      <td>5</td>\n",
       "    </tr>\n",
       "    <tr>\n",
       "      <td>4</td>\n",
       "      <td>5</td>\n",
       "    </tr>\n",
       "  </tbody>\n",
       "</table>\n",
       "</div>"
      ],
      "text/plain": [
       "   labels\n",
       "0       5\n",
       "1       5\n",
       "2       5\n",
       "3       5\n",
       "4       5"
      ]
     },
     "execution_count": 10,
     "metadata": {},
     "output_type": "execute_result"
    }
   ],
   "source": [
    "y_train.head()"
   ]
  },
  {
   "cell_type": "code",
   "execution_count": 11,
   "metadata": {},
   "outputs": [
    {
     "data": {
      "text/plain": [
       "labels    0\n",
       "dtype: int64"
      ]
     },
     "execution_count": 11,
     "metadata": {},
     "output_type": "execute_result"
    }
   ],
   "source": [
    "y_train.isnull().sum()"
   ]
  },
  {
   "cell_type": "code",
   "execution_count": 12,
   "metadata": {},
   "outputs": [
    {
     "data": {
      "text/plain": [
       "Index(['tBodyAcc-Mean-1', 'tBodyAcc-Mean-2', 'tBodyAcc-Mean-3',\n",
       "       'tBodyAcc-STD-1', 'tBodyAcc-STD-2', 'tBodyAcc-STD-3', 'tBodyAcc-Mad-1',\n",
       "       'tBodyAcc-Mad-2', 'tBodyAcc-Mad-3', 'tBodyAcc-Max-1',\n",
       "       ...\n",
       "       'fBodyGyroJerkMag-MeanFreq-1', 'fBodyGyroJerkMag-Skewness-1',\n",
       "       'fBodyGyroJerkMag-Kurtosis-1', 'tBodyAcc-AngleWRTGravity-1',\n",
       "       'tBodyAccJerk-AngleWRTGravity-1', 'tBodyGyro-AngleWRTGravity-1',\n",
       "       'tBodyGyroJerk-AngleWRTGravity-1', 'tXAxisAcc-AngleWRTGravity-1',\n",
       "       'tYAxisAcc-AngleWRTGravity-1', 'tZAxisAcc-AngleWRTGravity-1'],\n",
       "      dtype='object', length=561)"
      ]
     },
     "execution_count": 12,
     "metadata": {},
     "output_type": "execute_result"
    }
   ],
   "source": [
    "X_train.columns"
   ]
  },
  {
   "cell_type": "code",
   "execution_count": 13,
   "metadata": {},
   "outputs": [
    {
     "data": {
      "text/plain": [
       "Index(['labels'], dtype='object')"
      ]
     },
     "execution_count": 13,
     "metadata": {},
     "output_type": "execute_result"
    }
   ],
   "source": [
    "y_train.columns"
   ]
  },
  {
   "cell_type": "code",
   "execution_count": 14,
   "metadata": {},
   "outputs": [
    {
     "data": {
      "text/plain": [
       "Index(['tBodyAcc-Mean-1', 'tBodyAcc-Mean-2', 'tBodyAcc-Mean-3',\n",
       "       'tBodyAcc-STD-1', 'tBodyAcc-STD-2', 'tBodyAcc-STD-3', 'tBodyAcc-Mad-1',\n",
       "       'tBodyAcc-Mad-2', 'tBodyAcc-Mad-3', 'tBodyAcc-Max-1',\n",
       "       ...\n",
       "       'fBodyGyroJerkMag-MeanFreq-1', 'fBodyGyroJerkMag-Skewness-1',\n",
       "       'fBodyGyroJerkMag-Kurtosis-1', 'tBodyAcc-AngleWRTGravity-1',\n",
       "       'tBodyAccJerk-AngleWRTGravity-1', 'tBodyGyro-AngleWRTGravity-1',\n",
       "       'tBodyGyroJerk-AngleWRTGravity-1', 'tXAxisAcc-AngleWRTGravity-1',\n",
       "       'tYAxisAcc-AngleWRTGravity-1', 'tZAxisAcc-AngleWRTGravity-1'],\n",
       "      dtype='object', length=561)"
      ]
     },
     "execution_count": 14,
     "metadata": {},
     "output_type": "execute_result"
    }
   ],
   "source": [
    "X_test.columns"
   ]
  },
  {
   "cell_type": "code",
   "execution_count": 15,
   "metadata": {},
   "outputs": [
    {
     "data": {
      "text/plain": [
       "Index(['Label'], dtype='object')"
      ]
     },
     "execution_count": 15,
     "metadata": {},
     "output_type": "execute_result"
    }
   ],
   "source": [
    "y_test.columns"
   ]
  },
  {
   "cell_type": "code",
   "execution_count": 16,
   "metadata": {},
   "outputs": [],
   "source": [
    "#from sklearn import decomposition\n",
    "#from pdb import set_trace as bp\n",
    "#from sklearn.model_selection import StratifiedShuffleSplit, GridSearchCV\n",
    "from sklearn import metrics\n",
    "from sklearn.metrics import confusion_matrix\n",
    "from sklearn.metrics import classification_report, f1_score, confusion_matrix, accuracy_score"
   ]
  },
  {
   "cell_type": "markdown",
   "metadata": {},
   "source": [
    "## Splitting Training dataset into Training and Validation Dataset"
   ]
  },
  {
   "cell_type": "code",
   "execution_count": 17,
   "metadata": {},
   "outputs": [],
   "source": [
    "train_size = int(X_train.shape[0]*0.8)\n",
    "X_tr = X_train[0:train_size]\n",
    "y_tr = y_train[0:train_size]\n",
    "X_val = X_train[train_size:]\n",
    "y_val = y_train[train_size:]"
   ]
  },
  {
   "cell_type": "markdown",
   "metadata": {},
   "source": [
    "## Gaussian Naive Bayes"
   ]
  },
  {
   "cell_type": "code",
   "execution_count": 18,
   "metadata": {},
   "outputs": [
    {
     "name": "stdout",
     "output_type": "stream",
     "text": [
      "Train Accuracy:  0.6674714308707549\n",
      "Validation Accuracy:  0.6962676962676962\n",
      "Test Accuracy:  0.7137887413029728\n"
     ]
    }
   ],
   "source": [
    "from sklearn.naive_bayes import GaussianNB\n",
    "gnb = GaussianNB()\n",
    "nb_clf = gnb.fit(X_tr,y_tr)\n",
    "pred = nb_clf.predict(X_test)\n",
    "print(\"Train Accuracy: \", nb_clf.score(X_tr,y_tr))\n",
    "print(\"Validation Accuracy: \", nb_clf.score(X_val,y_val))\n",
    "print(\"Test Accuracy: \", nb_clf.score(X_test,y_test))"
   ]
  },
  {
   "cell_type": "code",
   "execution_count": 19,
   "metadata": {},
   "outputs": [
    {
     "name": "stdout",
     "output_type": "stream",
     "text": [
      "Classification Report\n",
      "              precision    recall  f1-score   support\n",
      "\n",
      "           1       0.83      0.86      0.84       496\n",
      "           2       0.78      0.95      0.85       471\n",
      "           3       0.85      0.58      0.69       420\n",
      "           4       0.49      0.90      0.63       508\n",
      "           5       0.88      0.45      0.60       556\n",
      "           6       0.99      0.60      0.75       545\n",
      "           7       0.26      0.70      0.38        23\n",
      "           8       0.53      0.90      0.67        10\n",
      "           9       0.53      0.75      0.62        32\n",
      "          10       0.41      0.84      0.55        25\n",
      "          11       0.64      0.57      0.60        49\n",
      "          12       0.53      0.30      0.38        27\n",
      "\n",
      "    accuracy                           0.71      3162\n",
      "   macro avg       0.64      0.70      0.63      3162\n",
      "weighted avg       0.79      0.71      0.71      3162\n",
      "\n",
      "Confusion Matrix\n",
      "[[426  36  34   0   0   0   0   0   0   0   0   0]\n",
      " [  4 446   7   0   0   0  13   0   0   0   1   0]\n",
      " [ 83  93 244   0   0   0   0   0   0   0   0   0]\n",
      " [  0   0   0 459  34   1   7   5   1   1   0   0]\n",
      " [  0   0   0 279 251   1  23   0   0   0   2   0]\n",
      " [  0   0   0 204   0 325   0   0   0  11   1   4]\n",
      " [  0   0   1   0   0   0  16   2   3   0   1   0]\n",
      " [  0   0   0   0   0   0   0   9   0   1   0   0]\n",
      " [  0   0   0   0   0   0   0   1  24   0   7   0]\n",
      " [  0   0   0   0   0   0   0   0   0  21   1   3]\n",
      " [  0   0   0   0   1   0   1   0  17   2  28   0]\n",
      " [  0   0   0   0   0   0   1   0   0  15   3   8]]\n",
      "F1- Score\n",
      "0.7144614276320038\n",
      "Accuracy Score\n",
      "0.7137887413029728\n"
     ]
    }
   ],
   "source": [
    "print(\"Classification Report\")\n",
    "print(classification_report(y_test, pred))\n",
    "print(\"Confusion Matrix\")\n",
    "print(confusion_matrix(y_test, pred))\n",
    "print(\"F1- Score\")\n",
    "print(f1_score(y_test, pred,average='weighted'))\n",
    "print(\"Accuracy Score\")\n",
    "print(accuracy_score(y_test, pred))"
   ]
  },
  {
   "cell_type": "markdown",
   "metadata": {},
   "source": [
    "## Logistic Regression"
   ]
  },
  {
   "cell_type": "code",
   "execution_count": 20,
   "metadata": {},
   "outputs": [],
   "source": [
    "from sklearn.linear_model import LogisticRegression"
   ]
  },
  {
   "cell_type": "code",
   "execution_count": 21,
   "metadata": {},
   "outputs": [
    {
     "name": "stdout",
     "output_type": "stream",
     "text": [
      "Train Accuracy:  0.9885723483019475\n",
      "Validation Accuracy:  0.9607464607464608\n",
      "Test Accuracy:  0.9332700822264389\n"
     ]
    }
   ],
   "source": [
    "lr=LogisticRegression()\n",
    "lr.fit(X_tr,y_tr)\n",
    "pred=lr.predict(X_test)\n",
    "print(\"Train Accuracy: \", lr.score(X_tr,y_tr))\n",
    "print(\"Validation Accuracy: \", lr.score(X_val,y_val))\n",
    "print(\"Test Accuracy: \", lr.score(X_test,y_test))"
   ]
  },
  {
   "cell_type": "code",
   "execution_count": 22,
   "metadata": {},
   "outputs": [
    {
     "name": "stdout",
     "output_type": "stream",
     "text": [
      "Classification Report\n",
      "              precision    recall  f1-score   support\n",
      "\n",
      "           1       0.90      0.99      0.94       496\n",
      "           2       0.94      0.90      0.92       471\n",
      "           3       0.98      0.95      0.96       420\n",
      "           4       0.95      0.87      0.91       508\n",
      "           5       0.89      0.96      0.92       556\n",
      "           6       1.00      0.99      1.00       545\n",
      "           7       1.00      0.65      0.79        23\n",
      "           8       0.90      0.90      0.90        10\n",
      "           9       0.74      0.78      0.76        32\n",
      "          10       0.71      0.80      0.75        25\n",
      "          11       0.75      0.73      0.74        49\n",
      "          12       0.75      0.56      0.64        27\n",
      "\n",
      "    accuracy                           0.93      3162\n",
      "   macro avg       0.88      0.84      0.85      3162\n",
      "weighted avg       0.94      0.93      0.93      3162\n",
      "\n",
      "Confusion Matrix\n",
      "[[491   3   2   0   0   0   0   0   0   0   0   0]\n",
      " [ 42 424   5   0   0   0   0   0   0   0   0   0]\n",
      " [ 10  13 397   0   0   0   0   0   0   0   0   0]\n",
      " [  0   3   0 442  62   0   0   0   0   1   0   0]\n",
      " [  1   0   0  19 536   0   0   0   0   0   0   0]\n",
      " [  0   1   0   0   3 541   0   0   0   0   0   0]\n",
      " [  0   1   0   2   2   0  15   1   1   0   1   0]\n",
      " [  0   1   0   0   0   0   0   9   0   0   0   0]\n",
      " [  0   0   0   0   0   0   0   0  25   0   7   0]\n",
      " [  0   0   0   0   0   0   0   0   0  20   0   5]\n",
      " [  1   2   0   1   1   0   0   0   8   0  36   0]\n",
      " [  0   1   0   0   0   0   0   0   0   7   4  15]]\n",
      "F1- Score\n",
      "0.9327740071756923\n",
      "Accuracy Score\n",
      "0.9332700822264389\n"
     ]
    }
   ],
   "source": [
    "print(\"Classification Report\")\n",
    "print(classification_report(y_test, pred))\n",
    "print(\"Confusion Matrix\")\n",
    "print(confusion_matrix(y_test, pred))\n",
    "print(\"F1- Score\")\n",
    "print(f1_score(y_test, pred,average='weighted'))\n",
    "print(\"Accuracy Score\")\n",
    "print(accuracy_score(y_test, pred))"
   ]
  },
  {
   "cell_type": "markdown",
   "metadata": {},
   "source": [
    "## Linear SVM"
   ]
  },
  {
   "cell_type": "code",
   "execution_count": 23,
   "metadata": {},
   "outputs": [
    {
     "name": "stdout",
     "output_type": "stream",
     "text": [
      "\n",
      "\n",
      "Iteration No. 0\n",
      "Training linear svm... for C:0.03125\n",
      "Done!\n",
      "Calculating accuracy...\n",
      "Linear SVM Train Accuracy: 0.9820\n",
      "Linear SVM Validation Accuracy for C=0.031250: 0.9543\n",
      "\n",
      "\n",
      "Iteration No. 1\n",
      "Training linear svm... for C:0.0625\n",
      "Done!\n",
      "Calculating accuracy...\n",
      "Linear SVM Train Accuracy: 0.9850\n",
      "Linear SVM Validation Accuracy for C=0.062500: 0.9614\n",
      "\n",
      "\n",
      "Iteration No. 2\n",
      "Training linear svm... for C:0.125\n",
      "Done!\n",
      "Calculating accuracy...\n",
      "Linear SVM Train Accuracy: 0.9889\n",
      "Linear SVM Validation Accuracy for C=0.125000: 0.9640\n",
      "\n",
      "\n",
      "Iteration No. 3\n",
      "Training linear svm... for C:0.25\n",
      "Done!\n",
      "Calculating accuracy...\n",
      "Linear SVM Train Accuracy: 0.9920\n",
      "Linear SVM Validation Accuracy for C=0.250000: 0.9633\n",
      "\n",
      "\n",
      "Iteration No. 4\n",
      "Training linear svm... for C:0.5\n",
      "Done!\n",
      "Calculating accuracy...\n",
      "Linear SVM Train Accuracy: 0.9928\n",
      "Linear SVM Validation Accuracy for C=0.500000: 0.9646\n",
      "\n",
      "\n",
      "Iteration No. 5\n",
      "Training linear svm... for C:1\n",
      "Done!\n",
      "Calculating accuracy...\n",
      "Linear SVM Train Accuracy: 0.9940\n",
      "Linear SVM Validation Accuracy for C=1.000000: 0.9698\n",
      "\n",
      "\n",
      "Iteration No. 6\n",
      "Training linear svm... for C:2\n",
      "Done!\n",
      "Calculating accuracy...\n",
      "Linear SVM Train Accuracy: 0.9953\n",
      "Linear SVM Validation Accuracy for C=2.000000: 0.9678\n",
      "\n",
      "\n",
      "Iteration No. 7\n",
      "Training linear svm... for C:4\n",
      "Done!\n",
      "Calculating accuracy...\n",
      "Linear SVM Train Accuracy: 0.9965\n",
      "Linear SVM Validation Accuracy for C=4.000000: 0.9659\n",
      "\n",
      "\n",
      "Iteration No. 8\n",
      "Training linear svm... for C:8\n",
      "Done!\n",
      "Calculating accuracy...\n",
      "Linear SVM Train Accuracy: 0.9974\n",
      "Linear SVM Validation Accuracy for C=8.000000: 0.9653\n",
      "\n",
      "\n",
      "Iteration No. 9\n",
      "Training linear svm... for C:16\n",
      "Done!\n",
      "Calculating accuracy...\n",
      "Linear SVM Train Accuracy: 0.9986\n",
      "Linear SVM Validation Accuracy for C=16.000000: 0.9620\n"
     ]
    }
   ],
   "source": [
    "from sklearn import svm\n",
    "indx=0\n",
    "accuracy = np.zeros(10)\n",
    "penalty=np.zeros(10)\n",
    "for i in range(-5,5):\n",
    "        print('\\n\\nIteration No. {}'.format(i+5))\n",
    "        print ('Training linear svm... for C:{}'.format(2**i))\n",
    "        lsvm_clf = svm.SVC(C=2**i, kernel='linear')\n",
    "        lsvm_clf.fit(X_tr,y_tr)\n",
    "        print ('Done!')\n",
    "\n",
    "        print ('Calculating accuracy...')\n",
    "        pred = lsvm_clf.predict(X_tr)\n",
    "        score=metrics.accuracy_score(y_tr, pred)\n",
    "        print ('Linear SVM Train Accuracy: %.4f' % score)\n",
    "\n",
    "        pred = lsvm_clf.predict(X_val)\n",
    "        accuracy[indx]=metrics.accuracy_score(y_val, pred)\n",
    "        penalty[indx]=2**i\n",
    "        print ('Linear SVM Validation Accuracy for C=%f: %.4f' % (2**i,accuracy[indx]))\n",
    "        indx += 1"
   ]
  },
  {
   "cell_type": "code",
   "execution_count": 26,
   "metadata": {},
   "outputs": [
    {
     "data": {
      "text/plain": [
       "Text(0.5, 1.0, 'Validation Accuracy vs C for Linear SVM')"
      ]
     },
     "execution_count": 26,
     "metadata": {},
     "output_type": "execute_result"
    },
    {
     "data": {
      "image/png": "[encoded data removed]",
      "text/plain": [
       "<Figure size 432x288 with 1 Axes>"
      ]
     },
     "metadata": {
      "needs_background": "light"
     },
     "output_type": "display_data"
    }
   ],
   "source": [
    "plt.figure()\n",
    "plt.plot(penalty,accuracy, marker='o', linewidth=1, markersize=5)\n",
    "plt.tick_params(labelright = True)\n",
    "plt.title('Validation Accuracy vs C for Linear SVM')"
   ]
  },
  {
   "cell_type": "markdown",
   "metadata": {},
   "source": [
    "#### Now, Validation Accuracy is highest at Penalty=1."
   ]
  },
  {
   "cell_type": "code",
   "execution_count": 27,
   "metadata": {},
   "outputs": [
    {
     "name": "stdout",
     "output_type": "stream",
     "text": [
      "Train Accuracy:  0.9940447448897473\n",
      "Validation Accuracy:  0.9697554697554698\n",
      "Test Accuracy:  0.9408602150537635\n"
     ]
    }
   ],
   "source": [
    "lsvm_clf = svm.SVC(C=1, kernel='linear')\n",
    "lsvm_clf.fit(X_tr,y_tr)\n",
    "pred = lsvm_clf.predict(X_test)\n",
    "print(\"Train Accuracy: \", lsvm_clf.score(X_tr,y_tr))\n",
    "print(\"Validation Accuracy: \", lsvm_clf.score(X_val,y_val))\n",
    "print(\"Test Accuracy: \", lsvm_clf.score(X_test,y_test))"
   ]
  },
  {
   "cell_type": "code",
   "execution_count": 28,
   "metadata": {},
   "outputs": [
    {
     "name": "stdout",
     "output_type": "stream",
     "text": [
      "Classification Report\n",
      "              precision    recall  f1-score   support\n",
      "\n",
      "           1       0.93      0.99      0.96       496\n",
      "           2       0.97      0.94      0.95       471\n",
      "           3       0.99      0.96      0.97       420\n",
      "           4       0.95      0.87      0.91       508\n",
      "           5       0.89      0.97      0.93       556\n",
      "           6       1.00      1.00      1.00       545\n",
      "           7       0.95      0.78      0.86        23\n",
      "           8       0.83      1.00      0.91        10\n",
      "           9       0.67      0.62      0.65        32\n",
      "          10       0.69      0.80      0.74        25\n",
      "          11       0.69      0.73      0.71        49\n",
      "          12       0.75      0.56      0.64        27\n",
      "\n",
      "    accuracy                           0.94      3162\n",
      "   macro avg       0.86      0.85      0.85      3162\n",
      "weighted avg       0.94      0.94      0.94      3162\n",
      "\n",
      "Confusion Matrix\n",
      "[[489   3   4   0   0   0   0   0   0   0   0   0]\n",
      " [ 28 442   1   0   0   0   0   0   0   0   0   0]\n",
      " [  8  10 402   0   0   0   0   0   0   0   0   0]\n",
      " [  0   2   0 441  64   0   0   1   0   0   0   0]\n",
      " [  0   0   0  18 537   0   1   0   0   0   0   0]\n",
      " [  0   0   0   0   0 545   0   0   0   0   0   0]\n",
      " [  0   1   0   2   0   0  18   1   0   0   1   0]\n",
      " [  0   0   0   0   0   0   0  10   0   0   0   0]\n",
      " [  0   0   0   0   0   0   0   0  20   0  12   0]\n",
      " [  0   0   0   0   0   0   0   0   0  20   0   5]\n",
      " [  0   0   0   1   0   2   0   0  10   0  36   0]\n",
      " [  0   0   0   0   0   0   0   0   0   9   3  15]]\n",
      "F1- Score\n",
      "0.9404737442135771\n",
      "Accuracy Score\n",
      "0.9408602150537635\n"
     ]
    }
   ],
   "source": [
    "print(\"Classification Report\")\n",
    "print(classification_report(y_test, pred))\n",
    "print(\"Confusion Matrix\")\n",
    "print(confusion_matrix(y_test, pred))\n",
    "print(\"F1- Score\")\n",
    "print(f1_score(y_test, pred,average='weighted'))\n",
    "print(\"Accuracy Score\")\n",
    "print(accuracy_score(y_test, pred))"
   ]
  },
  {
   "cell_type": "markdown",
   "metadata": {},
   "source": [
    "## KNN"
   ]
  },
  {
   "cell_type": "code",
   "execution_count": 29,
   "metadata": {},
   "outputs": [
    {
     "name": "stdout",
     "output_type": "stream",
     "text": [
      "Train Accuracy:  0.9747304039916305\n",
      "Validation Accuracy:  0.9028314028314028\n",
      "Test Accuracy:  0.8804554079696395\n"
     ]
    }
   ],
   "source": [
    "from sklearn.neighbors import KNeighborsClassifier\n",
    "knn=KNeighborsClassifier()\n",
    "knn.fit(X_tr,y_tr)\n",
    "pred=knn.predict(X_test)\n",
    "print(\"Train Accuracy: \", knn.score(X_tr,y_tr))\n",
    "print(\"Validation Accuracy: \", knn.score(X_val,y_val))\n",
    "print(\"Test Accuracy: \", knn.score(X_test,y_test))"
   ]
  },
  {
   "cell_type": "code",
   "execution_count": 30,
   "metadata": {},
   "outputs": [
    {
     "name": "stdout",
     "output_type": "stream",
     "text": [
      "Classification Report\n",
      "              precision    recall  f1-score   support\n",
      "\n",
      "           1       0.85      0.98      0.91       496\n",
      "           2       0.85      0.92      0.88       471\n",
      "           3       0.96      0.74      0.83       420\n",
      "           4       0.88      0.79      0.83       508\n",
      "           5       0.83      0.91      0.86       556\n",
      "           6       1.00      0.99      1.00       545\n",
      "           7       0.95      0.78      0.86        23\n",
      "           8       1.00      1.00      1.00        10\n",
      "           9       0.61      0.88      0.72        32\n",
      "          10       0.65      0.88      0.75        25\n",
      "          11       0.79      0.47      0.59        49\n",
      "          12       0.85      0.41      0.55        27\n",
      "\n",
      "    accuracy                           0.88      3162\n",
      "   macro avg       0.85      0.81      0.81      3162\n",
      "weighted avg       0.89      0.88      0.88      3162\n",
      "\n",
      "Confusion Matrix\n",
      "[[486   4   6   0   0   0   0   0   0   0   0   0]\n",
      " [ 31 432   8   0   0   0   0   0   0   0   0   0]\n",
      " [ 52  59 309   0   0   0   0   0   0   0   0   0]\n",
      " [  0   4   0 399 105   0   0   0   0   0   0   0]\n",
      " [  1   2   0  48 505   0   0   0   0   0   0   0]\n",
      " [  0   1   0   2   1 541   0   0   0   0   0   0]\n",
      " [  1   2   0   1   0   0  18   0   1   0   0   0]\n",
      " [  0   0   0   0   0   0   0  10   0   0   0   0]\n",
      " [  0   0   0   0   0   0   0   0  28   0   4   0]\n",
      " [  0   0   0   0   0   0   0   0   1  22   0   2]\n",
      " [  2   5   0   1   1   1   1   0  15   0  23   0]\n",
      " [  1   0   0   0   0   0   0   0   1  12   2  11]]\n",
      "F1- Score\n",
      "0.8780005382692841\n",
      "Accuracy Score\n",
      "0.8804554079696395\n"
     ]
    }
   ],
   "source": [
    "print(\"Classification Report\")\n",
    "print(classification_report(y_test, pred))\n",
    "print(\"Confusion Matrix\")\n",
    "print(confusion_matrix(y_test, pred))\n",
    "print(\"F1- Score\")\n",
    "print(f1_score(y_test, pred,average='weighted'))\n",
    "print(\"Accuracy Score\")\n",
    "print(accuracy_score(y_test, pred))"
   ]
  },
  {
   "cell_type": "markdown",
   "metadata": {},
   "source": [
    "## Decision Tree"
   ]
  },
  {
   "cell_type": "code",
   "execution_count": 31,
   "metadata": {},
   "outputs": [
    {
     "name": "stdout",
     "output_type": "stream",
     "text": [
      "Train Accuracy:  1.0\n",
      "Validation Accuracy:  0.8751608751608752\n",
      "Test Accuracy:  0.8289057558507273\n"
     ]
    }
   ],
   "source": [
    "from sklearn.tree import DecisionTreeClassifier\n",
    "dtc=DecisionTreeClassifier()\n",
    "dtc.fit(X_tr,y_tr)\n",
    "pred=knn.predict(X_test)\n",
    "print(\"Train Accuracy: \", dtc.score(X_tr,y_tr))\n",
    "print(\"Validation Accuracy: \", dtc.score(X_val,y_val))\n",
    "print(\"Test Accuracy: \", dtc.score(X_test,y_test))"
   ]
  },
  {
   "cell_type": "code",
   "execution_count": 32,
   "metadata": {},
   "outputs": [
    {
     "name": "stdout",
     "output_type": "stream",
     "text": [
      "Classification Report\n",
      "              precision    recall  f1-score   support\n",
      "\n",
      "           1       0.85      0.98      0.91       496\n",
      "           2       0.85      0.92      0.88       471\n",
      "           3       0.96      0.74      0.83       420\n",
      "           4       0.88      0.79      0.83       508\n",
      "           5       0.83      0.91      0.86       556\n",
      "           6       1.00      0.99      1.00       545\n",
      "           7       0.95      0.78      0.86        23\n",
      "           8       1.00      1.00      1.00        10\n",
      "           9       0.61      0.88      0.72        32\n",
      "          10       0.65      0.88      0.75        25\n",
      "          11       0.79      0.47      0.59        49\n",
      "          12       0.85      0.41      0.55        27\n",
      "\n",
      "    accuracy                           0.88      3162\n",
      "   macro avg       0.85      0.81      0.81      3162\n",
      "weighted avg       0.89      0.88      0.88      3162\n",
      "\n",
      "Confusion Matrix\n",
      "[[486   4   6   0   0   0   0   0   0   0   0   0]\n",
      " [ 31 432   8   0   0   0   0   0   0   0   0   0]\n",
      " [ 52  59 309   0   0   0   0   0   0   0   0   0]\n",
      " [  0   4   0 399 105   0   0   0   0   0   0   0]\n",
      " [  1   2   0  48 505   0   0   0   0   0   0   0]\n",
      " [  0   1   0   2   1 541   0   0   0   0   0   0]\n",
      " [  1   2   0   1   0   0  18   0   1   0   0   0]\n",
      " [  0   0   0   0   0   0   0  10   0   0   0   0]\n",
      " [  0   0   0   0   0   0   0   0  28   0   4   0]\n",
      " [  0   0   0   0   0   0   0   0   1  22   0   2]\n",
      " [  2   5   0   1   1   1   1   0  15   0  23   0]\n",
      " [  1   0   0   0   0   0   0   0   1  12   2  11]]\n",
      "F1- Score\n",
      "0.8780005382692841\n",
      "Accuracy Score\n",
      "0.8804554079696395\n"
     ]
    }
   ],
   "source": [
    "print(\"Classification Report\")\n",
    "print(classification_report(y_test, pred))\n",
    "print(\"Confusion Matrix\")\n",
    "print(confusion_matrix(y_test, pred))\n",
    "print(\"F1- Score\")\n",
    "print(f1_score(y_test, pred,average='weighted'))\n",
    "print(\"Accuracy Score\")\n",
    "print(accuracy_score(y_test, pred))"
   ]
  },
  {
   "cell_type": "markdown",
   "metadata": {},
   "source": [
    "## Models Applied with Accuracy"
   ]
  },
  {
   "cell_type": "code",
   "execution_count": 33,
   "metadata": {},
   "outputs": [],
   "source": [
    "df_model=pd.DataFrame({'Model_Applied':['Gaussian Naive Bayes','Logistic_Regression','Linear Support Vector Machine','KNN','DecisionTree'],'Test_Accuracy':[nb_clf.score(X_test,y_test),lr.score(X_test,y_test),lsvm_clf.score(X_test,y_test),knn.score(X_test,y_test),dtc.score(X_test,y_test)]})"
   ]
  },
  {
   "cell_type": "code",
   "execution_count": 34,
   "metadata": {},
   "outputs": [
    {
     "data": {
      "text/html": [
       "<div>\n",
       "<style scoped>\n",
       "    .dataframe tbody tr th:only-of-type {\n",
       "        vertical-align: middle;\n",
       "    }\n",
       "\n",
       "    .dataframe tbody tr th {\n",
       "        vertical-align: top;\n",
       "    }\n",
       "\n",
       "    .dataframe thead th {\n",
       "        text-align: right;\n",
       "    }\n",
       "</style>\n",
       "<table border=\"1\" class=\"dataframe\">\n",
       "  <thead>\n",
       "    <tr style=\"text-align: right;\">\n",
       "      <th></th>\n",
       "      <th>Model_Applied</th>\n",
       "      <th>Test_Accuracy</th>\n",
       "    </tr>\n",
       "  </thead>\n",
       "  <tbody>\n",
       "    <tr>\n",
       "      <td>0</td>\n",
       "      <td>Gaussian Naive Bayes</td>\n",
       "      <td>0.713789</td>\n",
       "    </tr>\n",
       "    <tr>\n",
       "      <td>1</td>\n",
       "      <td>Logistic_Regression</td>\n",
       "      <td>0.933270</td>\n",
       "    </tr>\n",
       "    <tr>\n",
       "      <td>2</td>\n",
       "      <td>Linear Support Vector Machine</td>\n",
       "      <td>0.940860</td>\n",
       "    </tr>\n",
       "    <tr>\n",
       "      <td>3</td>\n",
       "      <td>KNN</td>\n",
       "      <td>0.880455</td>\n",
       "    </tr>\n",
       "    <tr>\n",
       "      <td>4</td>\n",
       "      <td>DecisionTree</td>\n",
       "      <td>0.828906</td>\n",
       "    </tr>\n",
       "  </tbody>\n",
       "</table>\n",
       "</div>"
      ],
      "text/plain": [
       "                   Model_Applied  Test_Accuracy\n",
       "0           Gaussian Naive Bayes       0.713789\n",
       "1            Logistic_Regression       0.933270\n",
       "2  Linear Support Vector Machine       0.940860\n",
       "3                            KNN       0.880455\n",
       "4                   DecisionTree       0.828906"
      ]
     },
     "execution_count": 34,
     "metadata": {},
     "output_type": "execute_result"
    }
   ],
   "source": [
    "df_model"
   ]
  },
  {
   "cell_type": "code",
   "execution_count": 35,
   "metadata": {},
   "outputs": [
    {
     "data": {
      "text/plain": [
       "<matplotlib.axes._subplots.AxesSubplot at 0x19c30e007c8>"
      ]
     },
     "execution_count": 35,
     "metadata": {},
     "output_type": "execute_result"
    },
    {
     "data": {
      "image/png": "[encoded data removed]",
      "text/plain": [
       "<Figure size 432x288 with 1 Axes>"
      ]
     },
     "metadata": {
      "needs_background": "light"
     },
     "output_type": "display_data"
    }
   ],
   "source": [
    "df_model.plot(kind='bar',x='Model_Applied')"
   ]
  },
  {
   "cell_type": "code",
   "execution_count": null,
   "metadata": {},
   "outputs": [],
   "source": []
  }
 ],
 "metadata": {
  "kernelspec": {
   "display_name": "Python 3",
   "language": "python",
   "name": "python3"
  },
  "language_info": {
   "codemirror_mode": {
    "name": "ipython",
    "version": 3
   },
   "file_extension": ".py",
   "mimetype": "text/x-python",
   "name": "python",
   "nbconvert_exporter": "python",
   "pygments_lexer": "ipython3",
   "version": "3.7.4"
  }
 },
 "nbformat": 4,
 "nbformat_minor": 2
}
